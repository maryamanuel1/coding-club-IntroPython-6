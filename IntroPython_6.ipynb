{
  "nbformat": 4,
  "nbformat_minor": 0,
  "metadata": {
    "colab": {
      "name": "IntroPython-6.ipynb",
      "provenance": [],
      "collapsed_sections": [],
      "toc_visible": true,
      "include_colab_link": true
    },
    "kernelspec": {
      "name": "python3",
      "display_name": "Python 3"
    },
    "language_info": {
      "name": "python"
    }
  },
  "cells": [
    {
      "cell_type": "markdown",
      "metadata": {
        "id": "view-in-github",
        "colab_type": "text"
      },
      "source": [
        "<a href=\"https://colab.research.google.com/github/nhs-pycom/coding-club-IntroPython-6/blob/main/IntroPython_6.ipynb\" target=\"_parent\"><img src=\"https://colab.research.google.com/assets/colab-badge.svg\" alt=\"Open In Colab\"/></a>"
      ]
    },
    {
      "cell_type": "markdown",
      "metadata": {
        "id": "8g-GBAPXVvSV"
      },
      "source": [
        "#**The NHSX Analytics Unit introduction to Python Session 6**\n",
        "\n",
        "Python for Data Analysis by Wes McKinney was used as a key resource for this session. \n"
      ]
    },
    {
      "cell_type": "markdown",
      "metadata": {
        "id": "fD81bBu85MmH"
      },
      "source": [
        "As Pandas is not part of base Python, it must be imported if we want to use any functions within it. Pandas is traditionally imported with the alias 'pd'.\n",
        "\n",
        "Any function we use from pandas has to be proceeded by 'pd.' so Python knows to look in the Pandas package to find the function.\n"
      ]
    },
    {
      "cell_type": "markdown",
      "source": [
        ""
      ],
      "metadata": {
        "id": "ttNz6__ME0gT"
      }
    },
    {
      "cell_type": "code",
      "metadata": {
        "id": "qSH5QHFp5SMN"
      },
      "source": [
        "import pandas as pd"
      ],
      "execution_count": null,
      "outputs": []
    },
    {
      "cell_type": "markdown",
      "metadata": {
        "id": "g0jaF0epi_HL"
      },
      "source": [
        "# **11. Pandas Series:**\n",
        "\n",
        "A Pandas series is a one dimensional object that contains a single data type, similar to an array. The key feature that separates it from an array is that the sequence of values has an associated sequence of labels. A good way to think of a series is a fancy numpy array, where each value in the array gets a name.\n",
        "\n",
        "This is probably a good moment to also note that, confusingly, Pandas uses different names for data types than base python. They are mostly close enough to be obvious, with the exception of strings, which Pandas calls 'objects'."
      ]
    },
    {
      "cell_type": "markdown",
      "metadata": {
        "id": "vB8chPPVh61Z"
      },
      "source": [
        "##**Creating a Series**\n",
        "\n",
        "We can create a series in lots of different ways, but here we will create one from a list using the Pandas Series function. \n",
        "\n",
        "We see the series in the output below, with the index on the left, and the values we specified on the right. It also tells us the data type of the series, which we can see Pandas correctly inferred was an integer, and so set to int64. \n",
        "\n",
        "If we change one of the inputs to a float, the dtype for the whole series will change to float64. This is because a series may only contain one data type. "
      ]
    },
    {
      "cell_type": "code",
      "metadata": {
        "id": "OE1AP48HiVbm"
      },
      "source": [
        "#note the capitalisation on Series\n",
        "demo_series = pd.Series([1337, 66, 42.5])\n",
        "print(demo_series)"
      ],
      "execution_count": null,
      "outputs": []
    },
    {
      "cell_type": "markdown",
      "metadata": {
        "id": "FpHl_xockO_m"
      },
      "source": [
        "We can access the index and the values attributes of a series separately:"
      ]
    },
    {
      "cell_type": "code",
      "metadata": {
        "id": "yCpCvUo8mYyu"
      },
      "source": [
        "print(demo_series.index)\n",
        "\n",
        "print(demo_series.values)"
      ],
      "execution_count": null,
      "outputs": []
    },
    {
      "cell_type": "markdown",
      "metadata": {
        "id": "P2c8VjUroCUN"
      },
      "source": [
        "As we did not define an index, Python created a default one in the form of a range-like object, with values from 0 to n-1.\n",
        "\n",
        "If we want to specify the range instead of using a default one, we can do so as the series is created:"
      ]
    },
    {
      "cell_type": "code",
      "metadata": {
        "id": "QN9hNPh0puAH"
      },
      "source": [
        "demo_series = pd.Series([1337, 66, 42], index = ['a','b','c'])\n",
        "print(demo_series)"
      ],
      "execution_count": null,
      "outputs": []
    },
    {
      "cell_type": "code",
      "metadata": {
        "id": "fAdepC_H7Ckr"
      },
      "source": [
        "#We can also update the index of an existing series:\n",
        "demo_series.index = ['d','e','f']\n",
        "print(demo_series)"
      ],
      "execution_count": null,
      "outputs": []
    },
    {
      "cell_type": "markdown",
      "metadata": {
        "id": "MXntCyqj7Zk3"
      },
      "source": [
        "We can use the index to access specific values in the list."
      ]
    },
    {
      "cell_type": "code",
      "metadata": {
        "id": "c1O5fQ727iUg"
      },
      "source": [
        "print(demo_series['f'])"
      ],
      "execution_count": null,
      "outputs": []
    },
    {
      "cell_type": "code",
      "metadata": {
        "id": "jOrzlr56Lr8P"
      },
      "source": [
        "#we can pass multiple index values with a list\n",
        "print(demo_series[['f','e']])"
      ],
      "execution_count": null,
      "outputs": []
    },
    {
      "cell_type": "code",
      "metadata": {
        "id": "qE3bPv9HqxxL"
      },
      "source": [
        "#Task 61: create a series of 5 items, which does not use the default index. Access an item in the list using its index.\n"
      ],
      "execution_count": null,
      "outputs": []
    },
    {
      "cell_type": "code",
      "metadata": {
        "id": "mYQIrhVIrm7m"
      },
      "source": [
        "#Task 62: There are multiple ways to create a series. Try to make one out of this dictionary. Does anything interesting happen?\n",
        "demo_dict = {\"Bird\": \"Sparrow\", \"Mammal\": \"Dog\", \"Fish\": \"Cod\"}\n",
        "\n"
      ],
      "execution_count": null,
      "outputs": []
    },
    {
      "cell_type": "markdown",
      "metadata": {
        "id": "awZN39w5tBqb"
      },
      "source": [
        "You may not often see series' used on their own in Python. However, it was important to cover them, as they are the building blocks of Pandas most *exciting* feature....."
      ]
    },
    {
      "cell_type": "markdown",
      "metadata": {
        "id": "DW1RDQYg6iBN"
      },
      "source": [
        "# **12. Pandas Dataframes:**\n",
        "\n",
        "A dataframe is a two dimensional* table of data, similar to something you might work with in a spreadsheet. It can be thought of a a collection of series which all share the same index. \n",
        "\n",
        "Each series contains a single data type, but that can vary between series, meaning a dataframe as a whole can contain multiple datatypes.\n",
        "\n",
        "![series_df.PNG](data:image/png;base64,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)\n",
        "\n",
        "*dataframes can have more than two dimensions, but don't worry about that for now."
      ]
    },
    {
      "cell_type": "markdown",
      "metadata": {
        "id": "OE5u8J5G9I5H"
      },
      "source": [
        "##**Creating a Dataframe**\n",
        "\n",
        "Like series, dataframes can be created in lots of different ways. Here we are going to create one with a list of lists.\n",
        "\n",
        "Each sub-list contains a row in the dataframe. As with series, we have to specify the index values or use the default values, but with a dataframe we have both the row and column names  to think about. \n",
        "\n",
        "I have specificed the column names, but I'm going to leave the row index as default as that seems appropriate for this data."
      ]
    },
    {
      "cell_type": "code",
      "metadata": {
        "id": "HIetL22_6huu"
      },
      "source": [
        "#note the capitalisation in DataFrame\n",
        "demo_df = pd.DataFrame([['joe',30,5],['jerry',40,6],['jemma',25,6]],columns=['name','age','height'])\n",
        "print(demo_df)"
      ],
      "execution_count": null,
      "outputs": []
    },
    {
      "cell_type": "code",
      "metadata": {
        "id": "qEqAByV6-bvT"
      },
      "source": [
        "#Task 63: Create a dataframe with the following info. BONUS POINTS if you can do it using a dictionary or even a dictionary of dictionaries.\n",
        "#remember that each column is a series\n",
        "#Dog    age   colour\n",
        "#Fido   2     grey \n",
        "#Spot   3     white\n",
        "#Lassie 4     red\n",
        "\n"
      ],
      "execution_count": null,
      "outputs": []
    },
    {
      "cell_type": "markdown",
      "metadata": {
        "id": "KX0veaHu1Wng"
      },
      "source": [
        "This is also probably a good point to untangle some ambiguous terminology. As we have seen, a dataframe has a set of row names and column names. These are sometimes both refererred to as an index. However, in a dataframe object, the row index attribute is simply called 'index', whereas the column index is called 'columns'.  I am going to stick to that for the rest of the session. \n",
        "\n",
        "Additionally, selecting particular sets of data is also sometimes called 'indexing', but I'm going to avoid that where possible. "
      ]
    },
    {
      "cell_type": "markdown",
      "metadata": {
        "id": "xrVvC0pGDuOY"
      },
      "source": [
        "##**Importing a CSV file to a dataframe**\n",
        "\n",
        "A extremely useful feature of Pandas is that is has a function which handles importing an external csv file into Python as a dataframe. Importing files in base python can be fiddly, but the Pandas function read_csv handles opening the file and copying the data with a single command."
      ]
    },
    {
      "cell_type": "code",
      "metadata": {
        "id": "hI11LpnGGMfJ"
      },
      "source": [
        "#The file we are using is stored on the github repo, so the file location is the url.\n",
        "#If it was on your local machine, it would be the file path there instead, e.g. C:\\desktop\\people.csv.\n",
        "#To save space, we'll store the url in a variable. \n",
        "\n",
        "file_location = \"https://raw.githubusercontent.com/nhs-pycom/coding-club-IntroPython-5/main/people.csv\"\n",
        "\n",
        "demo_df2 = pd.read_csv(file_location)\n",
        "print(demo_df2)"
      ],
      "execution_count": null,
      "outputs": []
    },
    {
      "cell_type": "markdown",
      "metadata": {
        "id": "xc9_gT5hGuPg"
      },
      "source": [
        "The file has been read and loaded into a dataframe successfully, but we can see that the data is quite messy and needs some cleaning. Fortunately, *read_csv* has lots of ways that you can use to help it understand how you want it to read the data. \n",
        "\n",
        "To start with, there are rows of junk text at the end of this file. We can use *skipfooter* to tell it to ignore them. Additionally there is a column that contains nonsense. We can exclude that using the *usecol* argument to specify which columns we do want. \n",
        "\n",
        "It also looks like the column ID might be appropriate to use as an index, so lets tell the function to use that instead of generating a default one, using 'index_col'.\n",
        "\n",
        "(Setting the engine to python is required to prevent an warning related to the skipfooter argument, don't worry about that at this point). "
      ]
    },
    {
      "cell_type": "code",
      "metadata": {
        "id": "lbcJHMZYHFdJ"
      },
      "source": [
        "demo_df2 = pd.read_csv(file_location, skipfooter=2, engine='python', index_col='ID',\n",
        "usecols=['ID', 'Name', 'Age', 'Favourite Colour', 'Date of Birth', 'Height'])\n",
        "\n",
        "print(demo_df2 , \"\\n\")\n",
        "\n",
        "demo_df2.dtypes"
      ],
      "execution_count": null,
      "outputs": []
    },
    {
      "cell_type": "markdown",
      "metadata": {
        "id": "uWDdGJU_EfS3"
      },
      "source": [
        "This looks a lot better, we have gotten rid of the junk rows, excluded the column we don't want, and set the index appropriately. \n",
        "\n",
        "However, the dtypes attribute shows that the DOB and Height columns have been read as objects (aka strings). We may want to perform operations on these columns, so need them set to the proper datatypes. \n",
        "\n",
        "We can use *parse_dates* to tell Pandas to treat the DOB column as a datetime object. \n",
        "\n",
        "The Height column is being read as an object because it contains commas. We can tell Pandas the commas are just thousand dividers using the argument *thousands*. "
      ]
    },
    {
      "cell_type": "code",
      "metadata": {
        "id": "SlH7k-MoNshh"
      },
      "source": [
        "demo_df2 = pd.read_csv(file_location, parse_dates=[\"Date of Birth\"], thousands=\",\", skipfooter=2, engine='python',\n",
        "index_col='ID', usecols=['ID', 'Name', 'Age', 'Favourite Colour', 'Date of Birth', 'Height'])\n",
        "\n",
        "print(demo_df2, \"\\n\")\n",
        "\n",
        "print(demo_df2.dtypes)"
      ],
      "execution_count": null,
      "outputs": []
    },
    {
      "cell_type": "markdown",
      "metadata": {
        "id": "MWuomNAROYnR"
      },
      "source": [
        "Now all of our columns are the correct datatype. There are many more arguments not covered here that can be used to deal with messy csv data."
      ]
    },
    {
      "cell_type": "code",
      "metadata": {
        "id": "TWsO-mGXomhv"
      },
      "source": [
        "#Task 64. Here is the URL for a dataset we're going to be looking at later on. Load it into a dataframe called \"cereal_df\"\n",
        "https://raw.githubusercontent.com/nhs-pycom/coding-club-IntroPython-5/main/cereal.csv"
      ],
      "execution_count": null,
      "outputs": []
    },
    {
      "cell_type": "markdown",
      "metadata": {
        "id": "rWwm379al6bV"
      },
      "source": [
        "##**Examining a Dataframe**\n",
        "\n",
        "Here are a few useful commands you can use to examine a dataframe:"
      ]
    },
    {
      "cell_type": "code",
      "metadata": {
        "id": "3lwQu0V1ykmo"
      },
      "source": [
        "#Returns the top 5 rows in a dataframe. Tail does the same for the last 5 rows. \n",
        "demo_df2.head()"
      ],
      "execution_count": null,
      "outputs": []
    },
    {
      "cell_type": "code",
      "metadata": {
        "id": "pcXkMVYOx8iq"
      },
      "source": [
        "#provides descriptive stats for each column. Only includes numeric columns unless you use the include='all' argument. Only certain stats can be applied to non-numeric fields.\n",
        "demo_df2.describe()"
      ],
      "execution_count": null,
      "outputs": []
    },
    {
      "cell_type": "code",
      "metadata": {
        "id": "mkNp7kUpG_nj"
      },
      "source": [
        "#can also produce stats for individual columns. These are useful if you want to assign them to a variable and use as an input elsewhere. \n",
        "a = demo_df2['Height'].max()\n",
        "b = demo_df2['Height'].mean()\n",
        "\n",
        "print(\"Max:\", round(a,1), \" Mean:\", round(b,1))"
      ],
      "execution_count": null,
      "outputs": []
    },
    {
      "cell_type": "code",
      "metadata": {
        "id": "5eGWAP2M5MHK"
      },
      "source": [
        "#Task 65: calculating the range of the age column by finding the max, and deducting the min from it. \n"
      ],
      "execution_count": null,
      "outputs": []
    },
    {
      "cell_type": "markdown",
      "metadata": {
        "id": "mgxfpO5qHbHo"
      },
      "source": [
        "##**Appending and Dropping rows and columns**\n",
        "\n"
      ]
    },
    {
      "cell_type": "markdown",
      "metadata": {
        "id": "zAQZCJHhw1HV"
      },
      "source": [
        "A new column can be easily added by picking a name and assigning some data. Here we have added a rank column to the dataframe."
      ]
    },
    {
      "cell_type": "code",
      "metadata": {
        "id": "2QDpJsxXxpyO"
      },
      "source": [
        "ranks = ['Captain', 'Executive Officer', \"Warrant Office\", \"Science Officer\", \"Navigator\", \"Chief Engingeer\", \"Engineering Technician\", \"Cat\"]\n",
        "\n",
        "demo_df2['Rank'] = ranks\n",
        "print(demo_df2)"
      ],
      "execution_count": null,
      "outputs": []
    },
    {
      "cell_type": "markdown",
      "metadata": {
        "id": "CvZ60nDO6zLO"
      },
      "source": [
        "If we have another dataframe with the same columns, we can append it to the end of our dataframe. with the .append method. Any columns not present in the original will be added to the original dataframe and populated with nulls.\n",
        "\n",
        "The process creates a new object rather than updating the original. If we wanted to make this change permanent, we would need to assign the output of this process back to the original dataframe name. \n"
      ]
    },
    {
      "cell_type": "code",
      "metadata": {
        "id": "B6ELU44J4D5_"
      },
      "source": [
        "demo_df2_new_row = pd.DataFrame([['Xeno',1,'red','29/06/1982', 'acid', 1900, 'Stowaway']], columns =['Name', 'Age', 'Favourite Colour', 'Date of Birth', 'Blood Type', 'Height', 'Rank'], index = [\"99999\"])\n",
        "demo_df2_new_row[\"Date of Birth\"] = pd.to_datetime(demo_df2_new_row[\"Date of Birth\"])  \n",
        "\n",
        "demo_df2.append(demo_df2_new_row)"
      ],
      "execution_count": null,
      "outputs": []
    },
    {
      "cell_type": "markdown",
      "metadata": {
        "id": "ZSadh_cgw6rT"
      },
      "source": [
        "You can drop a row or column using its index using the drop method. You specify if it is a row (axis = 0) or column (axis = 1)."
      ]
    },
    {
      "cell_type": "code",
      "metadata": {
        "id": "UnJaHyerjpEc"
      },
      "source": [
        "demo_df2.drop('Age', axis = 1)"
      ],
      "execution_count": null,
      "outputs": []
    },
    {
      "cell_type": "code",
      "metadata": {
        "id": "20vXDa0QkQ5Z"
      },
      "source": [
        "#If you add the argument inplace=True, the method will modify the actual dataframe, rather than creating a new one. \n",
        "#Be careful though, this means the element you drop is permanently gone. We will make a copy of our dataframe to do this. \n",
        "demo_df2_copy = demo_df2.copy()\n",
        "\n",
        "demo_df2_copy.drop('H5655', axis = 0, inplace = True)\n",
        "print(demo_df2_copy)"
      ],
      "execution_count": null,
      "outputs": []
    },
    {
      "cell_type": "code",
      "metadata": {
        "id": "1bClnbspxyXx"
      },
      "source": [
        "#Task 66: drop Lambert's entry, and the height column, from the copy of the dataframe.\n"
      ],
      "execution_count": null,
      "outputs": []
    },
    {
      "cell_type": "markdown",
      "metadata": {
        "id": "DzCigTCDXj08"
      },
      "source": [
        "##**Selecting Data In a Dataframe** \n",
        "\n",
        "The mechanisms to select data from a dataframe are a bit unintuitive. However, learning them properly can help to mitigate that. \n",
        "\n",
        "You can select data by passing one or more column names. However, this only works for columns, and passing row indexes will result in an error. "
      ]
    },
    {
      "cell_type": "code",
      "metadata": {
        "id": "7N0LxJZ0X0VH"
      },
      "source": [
        "print(demo_df2['Name'])\n",
        "\n",
        "print(demo_df2[['Name','Age']])"
      ],
      "execution_count": null,
      "outputs": []
    },
    {
      "cell_type": "code",
      "metadata": {
        "id": "1WJiCAVTZ7xT"
      },
      "source": [
        "#EXCEPTION1 - Passing it a slice will give you rows. This is both annoying and useful. \n",
        "demo_df2[3:6]"
      ],
      "execution_count": null,
      "outputs": []
    },
    {
      "cell_type": "code",
      "metadata": {
        "id": "c4rI8d1KasK-"
      },
      "source": [
        "#EXCEPTION2 - passing it a boolean sequence will also give you rows (more on this later)\n",
        "demo_df2[[True, True, False, False, False, True, True, True]]"
      ],
      "execution_count": null,
      "outputs": []
    },
    {
      "cell_type": "markdown",
      "metadata": {
        "id": "wElpHwiQX0zU"
      },
      "source": [
        "However, you are probably going to want to do more complex selection than that at some point. Which is where the **.loc** and **.iloc** methods comes in.  \n",
        "\n",
        "loc allows you to select a chunk of a dataframe via the index (rows) and column names. iloc allows you to do the same, but with integers representing the position within the datframe. \n"
      ]
    },
    {
      "cell_type": "code",
      "metadata": {
        "id": "qfV9kW-Vb5Tv"
      },
      "source": [
        "#loc allows you to specify row names and row columns (always in that order). You can pass a single value or a list for either:\n",
        "demo_df2.loc['B5443',['Name','Age','Height']]"
      ],
      "execution_count": null,
      "outputs": []
    },
    {
      "cell_type": "code",
      "metadata": {
        "id": "n-qVM6DGb3C2"
      },
      "source": [
        "#iloc allows you to specify row names and row columns. You can also pass a slice here:\n",
        "demo_df2.iloc[3:6,4]"
      ],
      "execution_count": null,
      "outputs": []
    },
    {
      "cell_type": "code",
      "metadata": {
        "id": "Vcst5J_Xbkmn"
      },
      "source": [
        "#you can also combine them, but this is frowned upon and you may be sent to Python jail. \n",
        "demo_df2.iloc[:,0:4].loc[['T5434','B1123'],:]"
      ],
      "execution_count": null,
      "outputs": []
    },
    {
      "cell_type": "markdown",
      "metadata": {
        "id": "tLtkoJU7ECAS"
      },
      "source": [
        "**Conditional selection** is a very useful technique which allows you to select data based on some criteria. The mechanism was covered in the last session, whereby you create a sequence of boolean values, which are used to select rows. \n",
        "\n"
      ]
    },
    {
      "cell_type": "code",
      "metadata": {
        "id": "2-qkhk9ZElvu"
      },
      "source": [
        "#this line of code produces series of boolean values. The value is true where the Age is geater than 30. \n",
        "demo_df2['Age'] >30"
      ],
      "execution_count": null,
      "outputs": []
    },
    {
      "cell_type": "code",
      "metadata": {
        "id": "0YvLbGe8FBwD"
      },
      "source": [
        "#If we use that code as an input to the index, the list of boolean values is used to select rows from the data table,\n",
        "#returning each row that meets that criteria. THis is very useful for filtering data. \n",
        "demo_df2[demo_df2['Age'] >30]"
      ],
      "execution_count": null,
      "outputs": []
    },
    {
      "cell_type": "code",
      "metadata": {
        "id": "07CWtqy7G5Y2"
      },
      "source": [
        "#you can add multiple criteria\n",
        "demo_df2[(demo_df2['Age'] >30) & (demo_df2['Height'] >1750)]"
      ],
      "execution_count": null,
      "outputs": []
    },
    {
      "cell_type": "code",
      "metadata": {
        "id": "eZpXP1AwoAHB"
      },
      "source": [
        "#And even do it with partial strings by using 'str.contains'\n",
        "demo_df2[demo_df2['Name'].str.contains('ne')]"
      ],
      "execution_count": null,
      "outputs": []
    },
    {
      "cell_type": "code",
      "metadata": {
        "id": "2_e61-7-DRvu"
      },
      "source": [
        "#We are going to use the dataset we imported earlier  which contains nutritional info for cereals. If you didn't complete that task, the code to do it is here:\n",
        "file_location = \"https://raw.githubusercontent.com/nhs-pycom/coding-club-IntroPython-5/main/cereal.csv\"\n",
        "cereal_df = pd.read_csv(file_location, index_col = 'name')\n",
        "cereal_df.head()"
      ],
      "execution_count": null,
      "outputs": []
    },
    {
      "cell_type": "code",
      "metadata": {
        "id": "ol_E4nL0vzsQ"
      },
      "source": [
        "#Tasks \n",
        "#67) Drop the entry for 'Raisin Bran' from the dataframe"
      ],
      "execution_count": null,
      "outputs": []
    },
    {
      "cell_type": "code",
      "metadata": {
        "id": "iHwrVoOyv2qQ"
      },
      "source": [
        "#68) Find which has higher sugar content, Cocoa Puffs or Wheaties?\n"
      ],
      "execution_count": null,
      "outputs": []
    },
    {
      "cell_type": "code",
      "metadata": {
        "id": "Hlp-KHuNv50X"
      },
      "source": [
        "#69) Return every cereal name that contains 'bran'. Remember the name column has been assigned as the index!\n"
      ],
      "execution_count": null,
      "outputs": []
    },
    {
      "cell_type": "code",
      "metadata": {
        "id": "wL7wucEzv61O"
      },
      "source": [
        "#70) Return details for all cereals that have a higher than average protein content\n"
      ],
      "execution_count": null,
      "outputs": []
    }
  ]
}